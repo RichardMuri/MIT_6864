{
  "nbformat": 4,
  "nbformat_minor": 0,
  "metadata": {
    "colab": {
      "name": "Copy of 6864_hw2_fa21.ipynb",
      "provenance": [],
      "collapsed_sections": [],
      "machine_shape": "hm",
      "include_colab_link": true
    },
    "kernelspec": {
      "name": "python3",
      "display_name": "Python 3"
    },
    "accelerator": "GPU"
  },
  "cells": [
    {
      "cell_type": "markdown",
      "metadata": {
        "id": "view-in-github",
        "colab_type": "text"
      },
      "source": [
        "<a href=\"https://colab.research.google.com/github/RichardMuri/MIT_6864/blob/main/Copy_of_6864_hw2_fa21.ipynb\" target=\"_parent\"><img src=\"https://colab.research.google.com/assets/colab-badge.svg\" alt=\"Open In Colab\"/></a>"
      ]
    },
    {
      "cell_type": "code",
      "metadata": {
        "id": "FU7xWiY6TyWS",
        "colab": {
          "base_uri": "https://localhost:8080/"
        },
        "outputId": "36be8c11-9913-46b1-991d-8416912eaf83"
      },
      "source": [
        "%%bash\n",
        "!(stat -t /usr/local/lib/*/dist-packages/google/colab > /dev/null 2>&1) && exit \n",
        "rm -rf MIT_6864\n",
        "git clone \\\n",
        "  --depth 1  \\\n",
        "  --filter=blob:none  \\\n",
        "  --no-checkout \\\n",
        "  https://github.com/RichardMuri/MIT_6864\n",
        "cd MIT_6864\n",
        "git checkout main -- Homework_2/reviews.csv Homework_2/lab_util.py ML_utilities.py"
      ],
      "execution_count": 2,
      "outputs": [
        {
          "output_type": "stream",
          "name": "stderr",
          "text": [
            "Cloning into 'MIT_6864'...\n"
          ]
        }
      ]
    },
    {
      "cell_type": "code",
      "metadata": {
        "id": "A0MHaHrdUACZ"
      },
      "source": [
        "import sys\n",
        "sys.path.append(\"/content/MIT_6864/Homework_2\")\n",
        "import csv\n",
        "import itertools as it\n",
        "import numpy as np\n",
        "import sklearn.decomposition\n",
        "np.random.seed(0)\n",
        "from tqdm import tqdm\n",
        "\n",
        "import lab_util\n",
        "\n",
        "sys.path.append(\"/content/MIT_6864/\")\n",
        "import ML_utilities\n",
        "from ML_utilities import assert_size\n",
        "from pdb import set_trace as st\n"
      ],
      "execution_count": 3,
      "outputs": []
    },
    {
      "cell_type": "markdown",
      "metadata": {
        "id": "cZ3MUj4iUf76"
      },
      "source": [
        "# Introduction\n",
        "\n",
        "In this notebook, you will find code scaffolding for the implementation portion of Homework 2. There are certain parts of the scaffolding marked with `# Your code here!` comments where you can fill in code to perform the specified tasks. After implementing the methods in this notebook, you will need to design and perform experiments to evaluate each method and respond to the questions in the Homework 2 handout (available on Canvas). You should be able to complete this assignment without changing any of the scaffolding code, just writing code to fill in the scaffolding and run experiments."
      ]
    },
    {
      "cell_type": "markdown",
      "metadata": {
        "id": "gG654Y9J3yHw"
      },
      "source": [
        "## Dataset\n",
        "\n",
        "We're going to be working with a dataset of product reviews. The following cell loads the dataset and splits it into training, validation, and test sets."
      ]
    },
    {
      "cell_type": "code",
      "metadata": {
        "id": "JwiX-Tc9V1xI",
        "colab": {
          "base_uri": "https://localhost:8080/"
        },
        "outputId": "56f35aa3-b254-41a4-ff02-9d45ae69a65e"
      },
      "source": [
        "data = []\n",
        "n_positive = 0\n",
        "n_disp = 0\n",
        "with open(\"/content/MIT_6864/Homework_2/reviews.csv\") as reader:\n",
        "  csvreader = csv.reader(reader)\n",
        "  next(csvreader)\n",
        "  for id, review, label in csvreader:\n",
        "    label = int(label)\n",
        "\n",
        "    # hacky class balancing\n",
        "    if label == 1:\n",
        "      if n_positive == 2000:\n",
        "        continue\n",
        "      n_positive += 1\n",
        "    if len(data) == 4000:\n",
        "      break\n",
        "\n",
        "    data.append((review, label))\n",
        "    \n",
        "    if n_disp > 5:\n",
        "      continue\n",
        "    n_disp += 1\n",
        "    print(\"review:\", review)\n",
        "    print(\"rating:\", label, \"(good)\" if label == 1 else \"(bad)\")\n",
        "    print()\n",
        "\n",
        "print(f\"Read {len(data)} total reviews.\")\n",
        "np.random.shuffle(data)\n",
        "reviews, labels = zip(*data)\n",
        "train_reviews = reviews[:3000]\n",
        "train_labels = labels[:3000]\n",
        "val_reviews = reviews[3000:3500]\n",
        "val_labels = labels[3000:3500]\n",
        "test_reviews = reviews[3500:]\n",
        "test_labels = labels[3500:]"
      ],
      "execution_count": 4,
      "outputs": [
        {
          "output_type": "stream",
          "name": "stdout",
          "text": [
            "review: I have bought several of the Vitality canned dog food products and have found them all to be of good quality. The product looks more like a stew than a processed meat and it smells better. My Labrador is finicky and she appreciates this product better than  most.\n",
            "rating: 1 (good)\n",
            "\n",
            "review: Product arrived labeled as Jumbo Salted Peanuts...the peanuts were actually small sized unsalted. Not sure if this was an error or if the vendor intended to represent the product as \"Jumbo\".\n",
            "rating: 0 (bad)\n",
            "\n",
            "review: This is a confection that has been around a few centuries.  It is a light, pillowy citrus gelatin with nuts - in this case Filberts. And it is cut into tiny squares and then liberally coated with powdered sugar.  And it is a tiny mouthful of heaven.  Not too chewy, and very flavorful.  I highly recommend this yummy treat.  If you are familiar with the story of C.S. Lewis' \"The Lion, The Witch, and The Wardrobe\" - this is the treat that seduces Edmund into selling out his Brother and Sisters to the Witch.\n",
            "rating: 1 (good)\n",
            "\n",
            "review: If you are looking for the secret ingredient in Robitussin I believe I have found it.  I got this in addition to the Root Beer Extract I ordered (which was good) and made some cherry soda.  The flavor is very medicinal.\n",
            "rating: 0 (bad)\n",
            "\n",
            "review: Great taffy at a great price.  There was a wide assortment of yummy taffy.  Delivery was very quick.  If your a taffy lover, this is a deal.\n",
            "rating: 1 (good)\n",
            "\n",
            "review: I got a wild hair for taffy and ordered this five pound bag. The taffy was all very enjoyable with many flavors: watermelon, root beer, melon, peppermint, grape, etc. My only complaint is there was a bit too much red/black licorice-flavored pieces (just not my particular favorites). Between me, my kids, and my husband, this lasted only two weeks! I would recommend this brand of taffy -- it was a delightful treat.\n",
            "rating: 1 (good)\n",
            "\n",
            "Read 4000 total reviews.\n"
          ]
        }
      ]
    },
    {
      "cell_type": "markdown",
      "metadata": {
        "id": "twLHWqM6Z5xD"
      },
      "source": [
        "# Part 1: word representations via matrix factorization\n",
        "\n",
        "First, we'll construct the term-document matrix (look at `/content/hw2/lab_util.py` in the file browser on the left if you want to see how this works)."
      ]
    },
    {
      "cell_type": "code",
      "metadata": {
        "id": "3WPt6Y7-Z_7P",
        "colab": {
          "base_uri": "https://localhost:8080/"
        },
        "outputId": "2ed007df-0878-41f7-e3a6-5f1c4a12ab6c"
      },
      "source": [
        "vectorizer = lab_util.CountVectorizer()\n",
        "vectorizer.fit(train_reviews)\n",
        "td_matrix = vectorizer.transform(train_reviews).T\n",
        "print(f\"TD matrix is {td_matrix.shape[0]} x {td_matrix.shape[1]}\")"
      ],
      "execution_count": 5,
      "outputs": [
        {
          "output_type": "stream",
          "name": "stdout",
          "text": [
            "TD matrix is 2006 x 3000\n"
          ]
        }
      ]
    },
    {
      "cell_type": "markdown",
      "metadata": {
        "id": "hd3-pw4XbD4B"
      },
      "source": [
        "First, implement the function `learn_reps_lsa` that computes word representations via latent semantic analysis. The `sklearn.decomposition` or `np.linalg` packages may be useful."
      ]
    },
    {
      "cell_type": "code",
      "metadata": {
        "id": "KASVs8KubeBE"
      },
      "source": [
        "import sklearn.decomposition\n",
        "def learn_reps_lsa(matrix, rep_size):\n",
        "    # `matrix` is a `|V| x n` matrix (usually a TD matrix), \n",
        "    # where `|V|` is the number of words in the vocabulary and `n`\n",
        "    # is the number of reviews in the (training) corpus.\n",
        "    # This function should return a `|V| x rep_size` matrix with each\n",
        "    # row corresponding to a word representation.\n",
        "\n",
        "    # Your code here!\n",
        "    vsize = len(matrix)\n",
        "    # In this case, using just U\n",
        "    U, sigma, V = np.linalg.svd(matrix, full_matrices=True)\n",
        "    result = U[:, :rep_size]\n",
        "    assert_size(result, [vsize, rep_size])\n",
        "    return result"
      ],
      "execution_count": 34,
      "outputs": []
    },
    {
      "cell_type": "markdown",
      "metadata": {
        "id": "0fxv02wO9LbS"
      },
      "source": [
        "#### Sanity check 1\n",
        "The following cell contains a simple sanity check for your `learn_reps_lsa` implementation: it should print `True` if your `learn_reps_lsa` function is implemented equivalently to one of our solutions.  There are at least two reasonable ways to formulate these LSA word representations (whether you directly use the left singular vectors of `matrix` or scale them by the singular values), these correspond to the two possible representations in the sanity check below."
      ]
    },
    {
      "cell_type": "code",
      "metadata": {
        "id": "KsRlKB9q9Js-",
        "colab": {
          "base_uri": "https://localhost:8080/"
        },
        "outputId": "e63cd351-3c31-441a-8e31-3df097e97ed9"
      },
      "source": [
        "DEBUG_sc1_matrix = np.array([[1,0,0,2,1,3,5],\n",
        "                             [2,0,0,0,0,4,0],\n",
        "                             [0,3,4,1,8,6,6],\n",
        "                             [1,4,5,0,0,0,0]])\n",
        "\n",
        "DEBUG_reps = learn_reps_lsa(DEBUG_sc1_matrix, 3)\n",
        "DEBUG_gt1 = np.array([[ -4.92017554,  -2.85465774,   1.18575453],\n",
        "                      [ -2.14977584,  -1.19987977,   3.37221899],\n",
        "                      [-12.62664695,   0.10890093,  -1.32131745],\n",
        "                      [ -2.69216011,   5.66453534,   1.33728063]])\n",
        "DEBUG_gt2 = np.array([[-0.35188159, -0.44213061,  0.29358929],\n",
        "                      [-0.15374788, -0.18583789,  0.83495136],\n",
        "                      [-0.90303377,  0.01686662, -0.32715426],\n",
        "                      [-0.19253817,  0.87732566,  0.3311067 ]])\n",
        "\n",
        "print(np.allclose(np.abs(DEBUG_reps), np.abs(DEBUG_gt1)) or np.allclose(np.abs(DEBUG_reps), np.abs(DEBUG_gt2)))"
      ],
      "execution_count": 7,
      "outputs": [
        {
          "output_type": "stream",
          "name": "stdout",
          "text": [
            "True\n"
          ]
        }
      ]
    },
    {
      "cell_type": "markdown",
      "metadata": {
        "id": "SKWzRC0dclVK"
      },
      "source": [
        "Let's look at some representations:"
      ]
    },
    {
      "cell_type": "code",
      "metadata": {
        "id": "-Ad7RZkwceWw",
        "colab": {
          "base_uri": "https://localhost:8080/"
        },
        "outputId": "a66cedc3-c836-446c-c4ff-59561d8908d8"
      },
      "source": [
        "reps = learn_reps_lsa(td_matrix, 500)\n",
        "words = [\"good\", \"bad\", \"cookie\", \"jelly\", \"dog\", \"the\", \"3\"]\n",
        "show_tokens = [vectorizer.tokenizer.word_to_token[word] for word in words]\n",
        "lab_util.show_similar_words(vectorizer.tokenizer, reps, show_tokens)"
      ],
      "execution_count": 8,
      "outputs": [
        {
          "output_type": "stream",
          "name": "stdout",
          "text": [
            "good 47\n",
            "  gerber 1.873\n",
            "  luck 1.885\n",
            "  crazy 1.890\n",
            "  flaxseed 1.906\n",
            "  suspect 1.907\n",
            "bad 201\n",
            "  disgusting 1.625\n",
            "  horrible 1.776\n",
            "  shortbread 1.778\n",
            "  gone 1.778\n",
            "  dont 1.802\n",
            "cookie 504\n",
            "  nana's 0.964\n",
            "  bars 1.363\n",
            "  odd 1.402\n",
            "  impossible 1.459\n",
            "  cookies 1.484\n",
            "jelly 351\n",
            "  twist 1.099\n",
            "  cardboard 1.197\n",
            "  peanuts 1.311\n",
            "  advertised 1.331\n",
            "  plastic 1.510\n",
            "dog 925\n",
            "  happier 1.670\n",
            "  earlier 1.681\n",
            "  eats 1.702\n",
            "  stays 1.722\n",
            "  standard 1.727\n",
            "the 36\n",
            "  suspect 1.953\n",
            "  flowers 1.961\n",
            "  leaked 1.966\n",
            "  m 1.966\n",
            "  burn 1.967\n",
            "3 289\n",
            "  omega 1.733\n",
            "  vendor 1.739\n",
            "  supermarket 1.747\n",
            "  nutty 1.755\n",
            "  carries 1.797\n"
          ]
        }
      ]
    },
    {
      "cell_type": "markdown",
      "metadata": {
        "id": "LsOAGLB3iRjT"
      },
      "source": [
        "We've been operating on the raw count matrix, but in class we discussed several reweighting schemes aimed at making LSA representations more informative. \n",
        "\n",
        "Here, implement the TF-IDF transform and see how it affects learned representations. While it is okay (and in fact encouraged) to use vectorized numpy operations, you should refrain from using pre-implemented library functions for computing TF-IDF."
      ]
    },
    {
      "cell_type": "code",
      "metadata": {
        "id": "1y3PmW-IgpqA"
      },
      "source": [
        "def transform_tfidf(matrix):\n",
        "    # `matrix` is a `|V| x |D|` TD matrix of raw counts, where `|V|` is the \n",
        "    # vocabulary size and `|D|` is the number of documents in the corpus. This\n",
        "    # function should return a version of `matrix` with the TF-IDF transform\n",
        "    # applied. Note: this function should be nondestructive: it should not\n",
        "    # modify the input; instead, it should return a new object.\n",
        "\n",
        "    # Your code here!\n",
        "    nwords, ndocs = matrix.shape\n",
        "    vidf = np.vectorize(idf_helper)\n",
        "    idfs = np.zeros(nwords)\n",
        "    for i, _ in enumerate(idfs):\n",
        "      idfs[i] = idf_helper(matrix[i,:], ndocs)\n",
        "    tfidf = np.multiply(matrix, idfs[:, np.newaxis])\n",
        "    assert_size(tfidf, matrix.shape)\n",
        "    return tfidf\n",
        "\n",
        "def idf_helper(row, ndocs):\n",
        "  df = np.count_nonzero(row)\n",
        "  idf = np.log(ndocs/df)\n",
        "  return idf\n",
        "  \n"
      ],
      "execution_count": 9,
      "outputs": []
    },
    {
      "cell_type": "markdown",
      "metadata": {
        "id": "CnfIOUYjEZjw"
      },
      "source": [
        "#### Sanity check 2\n",
        "The following cell should print `True` if your `transform_tfidf` function is implemented properly. (*Hint: in our implementation, we use the natural logarithm (base $e$) when computing inverse document frequency.*)"
      ]
    },
    {
      "cell_type": "code",
      "metadata": {
        "id": "KVtphNeDEj2W",
        "colab": {
          "base_uri": "https://localhost:8080/"
        },
        "outputId": "0240b985-c644-4fdf-c714-f4775ceb4d3c"
      },
      "source": [
        "DEBUG_sc2_matrix = np.array([[3,1,0,3,0],\n",
        "                             [0,2,0,0,1],\n",
        "                             [7,8,2,0,1],\n",
        "                             [1,9,8,1,0]])\n",
        "DEBUG_gt = np.array([[1.53247687, 0.51082562, 0.        , 1.53247687, 0.        ],\n",
        "                     [0.        , 1.83258146, 0.        , 0.        , 0.91629073],\n",
        "                     [1.56200486, 1.78514841, 0.4462871 , 0.        , 0.22314355],\n",
        "                     [0.22314355, 2.00829196, 1.78514841, 0.22314355, 0.        ]])\n",
        "print(np.allclose(transform_tfidf(DEBUG_sc2_matrix), DEBUG_gt))"
      ],
      "execution_count": 10,
      "outputs": [
        {
          "output_type": "stream",
          "name": "stdout",
          "text": [
            "True\n"
          ]
        }
      ]
    },
    {
      "cell_type": "markdown",
      "metadata": {
        "id": "xOprgqzHi7bk"
      },
      "source": [
        "How does TF-IDF normalization change the learned similarity function?\n"
      ]
    },
    {
      "cell_type": "code",
      "metadata": {
        "id": "SV5xKLYTi7LA",
        "colab": {
          "base_uri": "https://localhost:8080/"
        },
        "outputId": "4e89a322-979b-4394-8bef-1b4e3537cc1d"
      },
      "source": [
        "reps = 100\n",
        "td_matrix_tfidf = transform_tfidf(td_matrix)\n",
        "reps_tfidf = learn_reps_lsa(td_matrix_tfidf, reps)\n",
        "lab_util.show_similar_words(vectorizer.tokenizer, reps_tfidf, show_tokens)"
      ],
      "execution_count": 35,
      "outputs": [
        {
          "output_type": "stream",
          "name": "stdout",
          "text": [
            "good 47\n",
            "  everyone 1.078\n",
            "  lunches 1.089\n",
            "  as 1.145\n",
            "  pretty 1.182\n",
            "  but 1.199\n",
            "bad 201\n",
            "  taste 1.038\n",
            "  strange 1.084\n",
            "  like 1.152\n",
            "  myself 1.169\n",
            "  nasty 1.177\n",
            "cookie 504\n",
            "  cookies 0.346\n",
            "  nana's 0.517\n",
            "  oreos 0.698\n",
            "  bars 0.796\n",
            "  craving 1.026\n",
            "jelly 351\n",
            "  creamer 0.891\n",
            "  gifts 1.008\n",
            "  twist 1.044\n",
            "  packages 1.150\n",
            "  advertised 1.179\n",
            "dog 925\n",
            "  foods 0.996\n",
            "  switched 1.044\n",
            "  pet 1.096\n",
            "  loves 1.147\n",
            "  appeal 1.150\n",
            "the 36\n",
            "  of 0.906\n",
            "  <unk> 0.976\n",
            "  . 1.053\n",
            "  and 1.142\n",
            "  to 1.194\n",
            "3 289\n",
            "  1 1.095\n",
            "  2 1.108\n",
            "  4 1.127\n",
            "  vendor 1.154\n",
            "  cool 1.242\n"
          ]
        }
      ]
    },
    {
      "cell_type": "markdown",
      "metadata": {
        "id": "HO-NG4u1kG9z"
      },
      "source": [
        "Now that we have some representations, let's see if we can do something useful with them.\n",
        "\n",
        "Below, implement a feature function that represents a document as the sum of its\n",
        "learned word embeddings.\n",
        "\n",
        "The remaining code trains a logistic regression model on a set of *labeled* reviews; we're interested in seeing how much representations learned from *unlabeled* reviews improve classification.\n",
        "\n",
        "(Note: the staff solutions for each of the three featurizers achieve accuracies of between .78 and .83 with the full training corpus (3000 examples).)"
      ]
    },
    {
      "cell_type": "code",
      "metadata": {
        "id": "6B08xvIFlee3",
        "colab": {
          "base_uri": "https://localhost:8080/"
        },
        "outputId": "d1aa9615-b9ce-48c8-e594-dd5e344ca4fa"
      },
      "source": [
        "import sklearn.linear_model\n",
        "import sklearn.model_selection\n",
        "\n",
        "def word_featurizer(xs):\n",
        "    # normalize\n",
        "    return xs / np.sqrt((xs ** 2).sum(axis=1, keepdims=True))\n",
        "\n",
        "def lsa_featurizer(xs):\n",
        "    # This function takes in a `|V| x |D|` TD matrix in which each row contains\n",
        "    # the word counts for the given review.\n",
        "    # It should return a matrix where each row contains the learned feature\n",
        "    # representation of each review (e.g. the sum of LSA word representations).\n",
        "    # (Hint: use TF-IDF LSA features, which should be a global variable after\n",
        "    # running the previous cell; no need to pass it in as an argument.)\n",
        "\n",
        "    lsa = reps_tfidf\n",
        "    feats = xs @ lsa\n",
        "\n",
        "    # normalize\n",
        "    return feats / np.sqrt((feats ** 2).sum(axis=1, keepdims=True))\n",
        "\n",
        "# We've implemented the remainder of the training and evaluation pipeline,\n",
        "# so you likely won't need to modify the following four functions.\n",
        "def combo_featurizer(xs):\n",
        "    return np.concatenate((word_featurizer(xs), lsa_featurizer(xs)), axis=1)\n",
        "\n",
        "def train_model(featurizer, xs, ys):\n",
        "    xs_featurized = featurizer(xs)\n",
        "    model = sklearn.linear_model.LogisticRegression()\n",
        "    model.fit(xs_featurized, ys)\n",
        "    return model\n",
        "\n",
        "def eval_model(model, featurizer, xs, ys):\n",
        "    xs_featurized = featurizer(xs)\n",
        "    pred_ys = model.predict(xs_featurized)\n",
        "    return np.mean(pred_ys == ys)\n",
        "\n",
        "def training_experiment(name, featurizer, n_train):\n",
        "    print(f\"{name} features, {n_train} examples\")\n",
        "    train_xs = vectorizer.transform(train_reviews[:n_train])\n",
        "    train_ys = train_labels[:n_train]\n",
        "    test_xs = vectorizer.transform(test_reviews)\n",
        "    test_ys = test_labels\n",
        "    model = train_model(featurizer, train_xs, train_ys)\n",
        "    acc = eval_model(model, featurizer, test_xs, test_ys)\n",
        "    print(acc, '\\n')\n",
        "    return acc\n",
        "\n",
        "# The following four lines will run a training experiment with all 3k examples\n",
        "# in training set for each feature type. `training_experiment` may be useful to\n",
        "# you when performing experiments to answer questions in the handout.\n",
        "n_train = 3000\n",
        "training_experiment(\"word\", word_featurizer, n_train)\n",
        "training_experiment(\"lsa\", lsa_featurizer, n_train)\n",
        "training_experiment(\"combo\", combo_featurizer, n_train)\n",
        "print()"
      ],
      "execution_count": 36,
      "outputs": [
        {
          "output_type": "stream",
          "name": "stdout",
          "text": [
            "word features, 3000 examples\n",
            "0.784 \n",
            "\n",
            "lsa features, 3000 examples\n",
            "0.798 \n",
            "\n",
            "combo features, 3000 examples\n",
            "0.802 \n",
            "\n",
            "\n"
          ]
        }
      ]
    },
    {
      "cell_type": "markdown",
      "metadata": {
        "id": "rpXziVNrlfp2"
      },
      "source": [
        "**Part 1: Lab writeup**\n",
        "\n",
        "Part 1 of your lab report should discuss any implementation details that were important to filling out the code above, as well as your answers to the questions in Part 1 of the Homework 2 handout. Below, you can set up and perform experiments that answer these questions (include figures, plots, and tables in your write-up as you see fit)."
      ]
    },
    {
      "cell_type": "markdown",
      "metadata": {
        "id": "L3WrzsHhC1I5"
      },
      "source": [
        "## Experiments for Part 1"
      ]
    },
    {
      "cell_type": "code",
      "metadata": {
        "id": "aTVF9JdRNOsx"
      },
      "source": [
        "# # Your code here!\n",
        "# def run_exp(n_train):\n",
        "#   acc_w = training_experiment(\"word\", word_featurizer, n_train)\n",
        "#   acc_l = training_experiment(\"lsa\", lsa_featurizer, n_train)\n",
        "#   acc_c = training_experiment(\"combo\", combo_featurizer, n_train)\n",
        "#   return acc_w, acc_l, acc_c\n",
        "\n",
        "# td_matrix_tfidf = transform_tfidf(td_matrix)\n",
        "# reps = range(100, 2006, 200)\n",
        "# n_trains = range(500, 3001, 500)\n",
        "# nexps = len(reps) * len(n_trains)\n",
        "# acc_w = np.zeros([nexps])\n",
        "# acc_l = np.zeros([nexps])\n",
        "# acc_c = np.zeros([nexps])\n",
        "# rvals = np.zeros([nexps])\n",
        "# tvals = np.zeros([nexps])\n",
        "# count = 0\n",
        "# for i, rep in enumerate(reps):\n",
        "#   reps_tfidf = learn_reps_lsa(td_matrix_tfidf, rep)\n",
        "#   for j, n_train in enumerate(n_trains):\n",
        "#     acc_w[count], acc_l[count], acc_c[count] = run_exp(n_train)\n",
        "#     rvals[count] = rep\n",
        "#     tvals[count] = n_train\n",
        "#     count = count + 1"
      ],
      "execution_count": 17,
      "outputs": []
    },
    {
      "cell_type": "code",
      "metadata": {
        "colab": {
          "base_uri": "https://localhost:8080/",
          "height": 265
        },
        "id": "FPKqGFMlftAh",
        "outputId": "21bd3031-8ab4-4ffc-e226-cc1e6a1d8d6a"
      },
      "source": [
        "# import matplotlib.pyplot as plt\n",
        "# fig = plt.figure()\n",
        "# ax = fig.add_subplot(projection='3d')\n",
        "# ax.scatter(rvals, tvals, acc_l)\n",
        "# ax.set_xlabel('Representation size')\n",
        "# ax.set_ylabel('Training size')\n",
        "# ax.set_zlabel('Accuracy')\n",
        "# ax.set_title('LSA Featurizer Performance')"
      ],
      "execution_count": 18,
      "outputs": [
        {
          "output_type": "execute_result",
          "data": {
            "text/plain": [
              "Text(0.5, 0.92, 'LSA Featurizer Performance')"
            ]
          },
          "metadata": {},
          "execution_count": 18
        },
        {
          "output_type": "display_data",
          "data": {
            "image/png": "[encoded data removed]",
            "text/plain": [
              "<Figure size 432x288 with 1 Axes>"
            ]
          },
          "metadata": {
            "needs_background": "light"
          }
        }
      ]
    },
    {
      "cell_type": "code",
      "metadata": {
        "colab": {
          "base_uri": "https://localhost:8080/",
          "height": 265
        },
        "id": "UKahdkkCfw4H",
        "outputId": "e906cf3a-7512-4fe1-85a2-1ff321552abf"
      },
      "source": [
        "# fig2 = plt.figure()\n",
        "# ax = fig2.add_subplot(projection='3d')\n",
        "# ax.scatter(rvals, tvals, acc_w)\n",
        "# ax.set_xlabel('Representation size')\n",
        "# ax.set_ylabel('Training size')\n",
        "# ax.set_zlabel('Accuracy')\n",
        "# ax.set_title('Word Featurizer Performance')"
      ],
      "execution_count": 19,
      "outputs": [
        {
          "output_type": "execute_result",
          "data": {
            "text/plain": [
              "Text(0.5, 0.92, 'Word Featurizer Performance')"
            ]
          },
          "metadata": {},
          "execution_count": 19
        },
        {
          "output_type": "display_data",
          "data": {
            "image/png": "[encoded data removed]",
            "text/plain": [
              "<Figure size 432x288 with 1 Axes>"
            ]
          },
          "metadata": {
            "needs_background": "light"
          }
        }
      ]
    },
    {
      "cell_type": "code",
      "metadata": {
        "colab": {
          "base_uri": "https://localhost:8080/",
          "height": 265
        },
        "id": "J5iQNbBhl5T7",
        "outputId": "3597ebb0-bfb0-402f-f539-c0e13d59a121"
      },
      "source": [
        "# fig3 = plt.figure()\n",
        "# ax = fig3.add_subplot(projection='3d')\n",
        "# ax.scatter(rvals, tvals, acc_c)\n",
        "# ax.set_xlabel('Representation size')\n",
        "# ax.set_ylabel('Training size')\n",
        "# ax.set_zlabel('Accuracy')\n",
        "# ax.set_title('Combo Featurizer Performance')\n",
        "\n",
        "# lmax = np.max(acc_l)\n",
        "# wmax = np.max(acc_w)\n",
        "# cmax = np.max(acc_c)\n",
        "# print(f'LSA max: {lmax} Word max: {wmax} Combo max: {cmax}')"
      ],
      "execution_count": 20,
      "outputs": [
        {
          "output_type": "stream",
          "name": "stdout",
          "text": [
            "LSA max: 0.812 Word max: 0.784 Combo max: 0.818\n"
          ]
        },
        {
          "output_type": "display_data",
          "data": {
            "image/png": "[encoded data removed]",
            "text/plain": [
              "<Figure size 432x288 with 1 Axes>"
            ]
          },
          "metadata": {
            "needs_background": "light"
          }
        }
      ]
    },
    {
      "cell_type": "markdown",
      "metadata": {
        "id": "AxfunCYh5nmZ"
      },
      "source": [
        "## Part 2: word representations via language modeling\n",
        "\n",
        "In this section, we'll train a word embedding model with a word2vec-style objective rather than a matrix factorization objective. This requires a little more work; we've provided scaffolding for a PyTorch model implementation below.\n",
        "If you don't have much PyTorch experience, there are some tutorials [here](https://pytorch.org/tutorials/) which may be useful. You're also welcome to implement these experiments in any other framework of your choosing (note that we won't be able to provide debugging support if you use a different framework)."
      ]
    },
    {
      "cell_type": "code",
      "metadata": {
        "id": "ePgZlityuWr3"
      },
      "source": [
        "def learn_reps_word2vec(corpus, window_size, rep_size, n_epochs, n_batch):\n",
        "    #This method takes in a corpus of training sentences. It returns a matrix of\n",
        "    # word embeddings with the same structure as used in the previous section of \n",
        "    # the assignment. (You can extract this matrix from the parameters of the \n",
        "    # Word2VecModel.)\n",
        "\n",
        "    tokenizer = lab_util.Tokenizer()\n",
        "    tokenizer.fit(corpus)\n",
        "    tokenized_corpus = tokenizer.tokenize(corpus)\n",
        "    vsize = tokenizer.vocab_size\n",
        "    print(f\"Tokenizer size is {vsize}\")\n",
        "\n",
        "    ngrams = lab_util.get_ngrams(tokenized_corpus, window_size, pad_idx=vsize)\n",
        "    print(f\"Ngrams size is {len(ngrams)}\")\n",
        "\n",
        "    device = torch.device('cuda')  # run on colab gpu\n",
        "    model = Word2VecModel(vsize, rep_size).to(device)\n",
        "    opt = optim.Adam(model.parameters(), lr=0.001)\n",
        "\n",
        "    loader = torch_data.DataLoader(ngrams, batch_size=n_batch, shuffle=True)\n",
        "\n",
        "    # What loss function should we use for Word2Vec?\n",
        "    loss_fn = nn.CrossEntropyLoss(ignore_index=vsize)  # Your code here!\n",
        "\n",
        "    losses = []  # Potentially useful for debugging (loss should go down!)\n",
        "    for epoch in tqdm(range(n_epochs)):\n",
        "        epoch_loss = 0\n",
        "        for context, label in loader:\n",
        "            # As described above, `context` is a batch of context word ids, and\n",
        "            # `label` is a batch of predicted word labels.\n",
        "\n",
        "            # Here, perform a forward pass to compute predictions for the model.\n",
        "            # Your code here!\n",
        "            preds = model(context.to(device))\n",
        "\n",
        "\n",
        "            # Now finish the backward pass and gradient update.\n",
        "            # Remember, you need to compute the loss, zero the gradients\n",
        "            # of the model parameters, perform the backward pass, and\n",
        "            # update the model parameters.\n",
        "            # Your code here!\n",
        "            loss = loss_fn(preds, label.to(device))\n",
        "            loss.backward()\n",
        "            opt.step()\n",
        "            model.zero_grad()\n",
        "            epoch_loss += loss.item()\n",
        "        losses.append(epoch_loss)\n",
        "        print(\"Epoch {} loss: {}\".format(epoch, epoch_loss))\n",
        "    \n",
        "\n",
        "    # Hint: you want to return a `vocab_size x embedding_size` numpy array\n",
        "    embedding_matrix = model.embed.weight[:-1, :] # Your code here!\n",
        "    embedding_matrix = embedding_matrix.cpu().detach().numpy()  \n",
        "    expected_size = [tokenizer.vocab_size, rep_size]\n",
        "    assert_size(embedding_matrix, expected_size)\n",
        "\n",
        "    return embedding_matrix"
      ],
      "execution_count": 29,
      "outputs": []
    },
    {
      "cell_type": "code",
      "metadata": {
        "id": "M1napibQ6aub"
      },
      "source": [
        "import torch\n",
        "import torch.nn as nn\n",
        "import torch.nn.functional as F\n",
        "import torch.optim as optim\n",
        "import torch.utils.data as torch_data\n",
        "\n",
        "class Word2VecModel(nn.Module):\n",
        "    # A torch module implementing a word2vec predictor. The `forward` function\n",
        "    # should take a batch of context word ids as input and predict the word \n",
        "    # in the middle of the context as output, as in the CBOW model from lecture.\n",
        "    # Hint: look at how padding is handled in lab_util.get_ngrams when\n",
        "    # initializing `ctx`: vocab_size is used as the padding token for contexts\n",
        "    # near the beginning and end of sequences. If you use an embedding module\n",
        "    # in your Word2Vec implementation, make sure to account for this extra\n",
        "    # padding token, and account for it with the `padding_idx` kwarg.\n",
        "\n",
        "    def __init__(self, vocab_size, embed_dim, padding_idx=2006):\n",
        "        super().__init__()\n",
        "        self.device = torch.device('cuda')\n",
        "        self.vsize = vocab_size\n",
        "        self.embed = nn.Embedding(vocab_size+1, embed_dim, padding_idx=padding_idx, device=self.device)\n",
        "\n",
        "        # Your code here!\n",
        "        self.linear = nn.Linear(embed_dim, vocab_size, device=self.device)\n",
        "        print(f\"Initializing word2vec with vocab size {vocab_size} and embed_dim {embed_dim}.\")\n",
        "\n",
        "    def forward(self, context):\n",
        "        # Context is an `n_batch x n_context` matrix of integer word ids\n",
        "        # this function should return an `n_batch x vocab_size` matrix with\n",
        "        # element i, j being the (possibly log) probability of the middle word\n",
        "        # in context i being word j.\n",
        "\n",
        "        # Your code here!\n",
        "        bsize, _ = context.size()\n",
        "        embedding = self.embed(context)\n",
        "        embedding = torch.sum(embedding, 1).to(self.device)\n",
        "        hidden = self.linear(embedding)\n",
        "        output = F.log_softmax(hidden, dim=-1).to(self.device)\n",
        "\n",
        "        assert_size(output, [bsize, self.vsize])\n",
        "        return output"
      ],
      "execution_count": 30,
      "outputs": []
    },
    {
      "cell_type": "code",
      "metadata": {
        "id": "aaUy1cNuB3W1",
        "colab": {
          "base_uri": "https://localhost:8080/"
        },
        "outputId": "f4c5baa7-3c0e-4749-96d7-d8f6e5ffa6fe"
      },
      "source": [
        "# Use the function you just wrote to learn Word2Vec embeddings:\n",
        "windows =  2# default 2\n",
        "rep_size = 500 # default 500\n",
        "epochs = 5 # default 10\n",
        "batch_size = 100 # default 100\n",
        "reps_word2vec = learn_reps_word2vec(train_reviews, windows, rep_size, epochs, batch_size)"
      ],
      "execution_count": 31,
      "outputs": [
        {
          "output_type": "stream",
          "name": "stdout",
          "text": [
            "Tokenizer size is 2006\n",
            "Ngrams size is 272852\n",
            "Initializing word2vec with vocab size 2006 and embed_dim 500.\n"
          ]
        },
        {
          "output_type": "stream",
          "name": "stderr",
          "text": [
            " 20%|██        | 1/5 [00:09<00:37,  9.47s/it]"
          ]
        },
        {
          "output_type": "stream",
          "name": "stdout",
          "text": [
            "Epoch 0 loss: 13934.160921573639\n"
          ]
        },
        {
          "output_type": "stream",
          "name": "stderr",
          "text": [
            "\r 40%|████      | 2/5 [00:18<00:27,  9.25s/it]"
          ]
        },
        {
          "output_type": "stream",
          "name": "stdout",
          "text": [
            "Epoch 1 loss: 11710.263818264008\n"
          ]
        },
        {
          "output_type": "stream",
          "name": "stderr",
          "text": [
            "\r 60%|██████    | 3/5 [00:27<00:18,  9.22s/it]"
          ]
        },
        {
          "output_type": "stream",
          "name": "stdout",
          "text": [
            "Epoch 2 loss: 10984.11233830452\n"
          ]
        },
        {
          "output_type": "stream",
          "name": "stderr",
          "text": [
            "\r 80%|████████  | 4/5 [00:36<00:09,  9.20s/it]"
          ]
        },
        {
          "output_type": "stream",
          "name": "stdout",
          "text": [
            "Epoch 3 loss: 10562.701818227768\n"
          ]
        },
        {
          "output_type": "stream",
          "name": "stderr",
          "text": [
            "100%|██████████| 5/5 [00:46<00:00,  9.21s/it]"
          ]
        },
        {
          "output_type": "stream",
          "name": "stdout",
          "text": [
            "Epoch 4 loss: 10268.877155303955\n"
          ]
        },
        {
          "output_type": "stream",
          "name": "stderr",
          "text": [
            "\n"
          ]
        }
      ]
    },
    {
      "cell_type": "markdown",
      "metadata": {
        "id": "O3oE-tpR7I39"
      },
      "source": [
        "After training the embeddings, we can try to visualize the embedding space to see if it makes sense. First, we can take any word in the space and check its closest neighbors."
      ]
    },
    {
      "cell_type": "code",
      "metadata": {
        "id": "yMW4QND56bHF",
        "colab": {
          "base_uri": "https://localhost:8080/"
        },
        "outputId": "4cb58bc7-f09e-4de7-cf28-cfe75c583d74"
      },
      "source": [
        "lab_util.show_similar_words(vectorizer.tokenizer, reps_word2vec, show_tokens)"
      ],
      "execution_count": null,
      "outputs": [
        {
          "output_type": "stream",
          "name": "stdout",
          "text": [
            "good 47\n",
            "  apart 1.676\n",
            "  sound 1.721\n",
            "  liked 1.744\n",
            "  recent 1.748\n",
            "  staple 1.751\n",
            "bad 201\n",
            "  dented 1.695\n",
            "  died 1.697\n",
            "  betty 1.743\n",
            "  mixed 1.746\n",
            "  strange 1.754\n",
            "cookie 504\n",
            "  seasoning 1.722\n",
            "  grind 1.728\n",
            "  made 1.729\n",
            "  above 1.732\n",
            "  split 1.746\n",
            "jelly 351\n",
            "  ways 1.679\n",
            "  tongue 1.694\n",
            "  bite 1.705\n",
            "  bulk 1.713\n",
            "  straight 1.721\n",
            "dog 925\n",
            "  junk 1.611\n",
            "  intake 1.671\n",
            "  photo 1.691\n",
            "  replace 1.703\n",
            "  generally 1.703\n",
            "the 36\n",
            "  a 1.570\n",
            "  handy 1.689\n",
            "  holes 1.695\n",
            "  perfectly 1.731\n",
            "  cafe 1.756\n",
            "3 289\n",
            "  17 1.700\n",
            "  cold 1.713\n",
            "  parents 1.726\n",
            "  thai 1.744\n",
            "  commercial 1.755\n"
          ]
        }
      ]
    },
    {
      "cell_type": "markdown",
      "metadata": {
        "id": "ue-9CPSc7fi9"
      },
      "source": [
        "We can also cluster the embedding space. Clustering in 4 or more dimensions is hard to visualize, and even clustering in 2 or 3 can be difficult because there are so many words in the vocabulary. One thing we can try to do is assign cluster labels and qualitiatively look for an underlying pattern in the clusters."
      ]
    },
    {
      "cell_type": "code",
      "metadata": {
        "id": "v-Yf6NMCXVx4",
        "colab": {
          "base_uri": "https://localhost:8080/"
        },
        "outputId": "d129fe2d-08ef-466d-8741-1fabbc5f1417"
      },
      "source": [
        "from sklearn.cluster import KMeans\n",
        "\n",
        "indices = KMeans(n_clusters=10).fit_predict(reps_word2vec)\n",
        "zipped = list(zip(range(vectorizer.tokenizer.vocab_size), indices))\n",
        "np.random.shuffle(zipped)\n",
        "zipped = zipped[:100]\n",
        "zipped = sorted(zipped, key=lambda x: x[1], reverse=True)\n",
        "for token, cluster_idx in zipped:\n",
        "    word = vectorizer.tokenizer.token_to_word[token]\n",
        "    print(f\"{word}: {cluster_idx}\")"
      ],
      "execution_count": null,
      "outputs": [
        {
          "output_type": "stream",
          "name": "stdout",
          "text": [
            "moved: 9\n",
            "fall: 9\n",
            "caramels: 9\n",
            "than: 9\n",
            "brewer: 9\n",
            "beer: 9\n",
            "subtle: 9\n",
            "suggest: 9\n",
            "someone: 9\n",
            "go: 9\n",
            "him: 9\n",
            "update: 9\n",
            "needed: 9\n",
            "rate: 9\n",
            "decide: 9\n",
            "next: 9\n",
            "buying: 8\n",
            "pieces: 8\n",
            "large: 8\n",
            "amazing: 8\n",
            "below: 8\n",
            "spread: 8\n",
            "change: 8\n",
            "excellent: 8\n",
            "classic: 8\n",
            "average: 8\n",
            "given: 8\n",
            "bad: 8\n",
            "cookies: 8\n",
            "bought: 8\n",
            "plus: 8\n",
            "never: 8\n",
            "solid: 8\n",
            "will: 8\n",
            "beef: 8\n",
            "zero: 8\n",
            "fiber: 8\n",
            "description: 8\n",
            "still: 8\n",
            "truly: 8\n",
            "starbucks: 8\n",
            "lasts: 8\n",
            "that's: 8\n",
            "im: 7\n",
            "muffin: 7\n",
            "hint: 7\n",
            "months: 7\n",
            "lays: 7\n",
            "crackers: 7\n",
            "artificial: 7\n",
            "birthday: 7\n",
            "calcium: 7\n",
            "shipment: 7\n",
            "fruit: 7\n",
            "doesn't: 7\n",
            "granted: 7\n",
            "we: 7\n",
            "mill: 7\n",
            "holes: 7\n",
            "seen: 6\n",
            "cubes: 6\n",
            "eaten: 6\n",
            "lunches: 6\n",
            "filled: 6\n",
            "kind: 6\n",
            "nearly: 6\n",
            "living: 6\n",
            "40: 6\n",
            "learned: 6\n",
            "packing: 6\n",
            "double: 6\n",
            "general: 5\n",
            "worked: 5\n",
            "help: 5\n",
            "potassium: 5\n",
            "coffee: 5\n",
            "plum: 5\n",
            "un: 5\n",
            "treats: 5\n",
            "mean: 5\n",
            "colors: 4\n",
            "teeth: 3\n",
            "prime: 3\n",
            "without: 3\n",
            "reviews: 3\n",
            "ok: 3\n",
            "caffeine: 3\n",
            "has: 3\n",
            "warning: 3\n",
            "its: 3\n",
            "times: 3\n",
            "unfortunately: 3\n",
            "target: 3\n",
            "puppy: 3\n",
            "something: 3\n",
            "morning: 3\n",
            "pouch: 3\n",
            "rica: 3\n",
            "disappointed: 1\n",
            "expiration: 0\n"
          ]
        }
      ]
    },
    {
      "cell_type": "markdown",
      "metadata": {
        "id": "ci1TkENU78Wn"
      },
      "source": [
        "Finally, we can use the trained word embeddings to construct vector representations of full reviews. One common approach is to simply average all the word embeddings in the review to create an overall embedding. Implement the transform function in Word2VecFeaturizer to do this."
      ]
    },
    {
      "cell_type": "code",
      "metadata": {
        "id": "A5vjmRV6Dgbu",
        "colab": {
          "base_uri": "https://localhost:8080/"
        },
        "outputId": "8095bdfe-2d53-4579-cc44-891dd35c1947"
      },
      "source": [
        "def w2v_featurizer(xs):\n",
        "    # This function takes in a matrix in which each row contains the word counts\n",
        "    # for the given review. It should return a matrix in which each row contains\n",
        "    # the average Word2Vec embedding of each review (hint: this will be very\n",
        "    # similar to `lsa_featurizer` from above, just using Word2Vec embeddings \n",
        "    # instead of LSA).\n",
        "\n",
        "    feats = xs @ reps_word2vec# Your code here!\n",
        "\n",
        "    # normalize\n",
        "    return feats / np.sqrt((feats ** 2).sum(axis=1, keepdims=True))\n",
        "\n",
        "training_experiment(\"word2vec\", w2v_featurizer, 3000)\n",
        "print()"
      ],
      "execution_count": 42,
      "outputs": [
        {
          "output_type": "stream",
          "name": "stdout",
          "text": [
            "word2vec features, 3000 examples\n",
            "0.78 \n",
            "\n",
            "\n"
          ]
        }
      ]
    },
    {
      "cell_type": "markdown",
      "metadata": {
        "id": "XSfoQbxaXtfH"
      },
      "source": [
        "**Part 2: Lab writeup**\n",
        "\n",
        "Part 2 of your lab report should discuss any implementation details that were important to filling out the code above, as well as your answers to the questions in Part 2 of the Homework 2 handout. Below, you can set up and perform experiments that answer these questions (include figures, plots, and tables in your write-up as you see fit)."
      ]
    },
    {
      "cell_type": "markdown",
      "metadata": {
        "id": "Beb7dgqWycYx"
      },
      "source": [
        "## Experiments for Part 2"
      ]
    },
    {
      "cell_type": "code",
      "metadata": {
        "id": "obr-zEmNydDm",
        "colab": {
          "base_uri": "https://localhost:8080/"
        },
        "outputId": "0f698e9e-be05-483d-cff9-f3b6c6240895"
      },
      "source": [
        "# Your code here!\n",
        "def x_featurizer(xs):\n",
        "    return np.concatenate(  ( w2v_featurizer(xs),  combo_featurizer(xs)), axis=1)\n",
        "training_experiment(\"word2vec\", x_featurizer, 3000)"
      ],
      "execution_count": 41,
      "outputs": [
        {
          "output_type": "stream",
          "name": "stdout",
          "text": [
            "word2vec features, 3000 examples\n",
            "0.818 \n",
            "\n"
          ]
        },
        {
          "output_type": "execute_result",
          "data": {
            "text/plain": [
              "0.818"
            ]
          },
          "metadata": {},
          "execution_count": 41
        }
      ]
    },
    {
      "cell_type": "markdown",
      "metadata": {
        "id": "5_HYOLQd5JLx"
      },
      "source": [
        "# Part 3 (6.864 only)"
      ]
    },
    {
      "cell_type": "markdown",
      "metadata": {
        "id": "70uuuHpr5NT4"
      },
      "source": [
        "In Part 3, you will extend the methods you've implemented in Parts 1 and 2 with the goal of improving final predictive performance. You should experiment with at least one idea to improve the model --- feel free to focus on either the featurizer or the classifier. Some suggestions of things you could try:\n",
        "\n",
        "1. Implement a different TD matrix normalization method (see lecture slides for alternatives to TF-IDF).\n",
        "2. Implement a different Word2Vec formulation (in Part 2, you implemented the CBOW formulation; does the skip-gram formulation perform any better?).\n",
        "3. Implement a more sophisticated classifier module.\n",
        "4. Tune featurizer and/or classifier hyperparameters (for full marks, you should obtain at least a 1% improvement in prediction accuracy if you only tune hyperparameters).\n",
        "\n",
        "In your report, discuss what you implemented (including relevant design decisions), and how your change(s) impacted performance.\n",
        "\n",
        "Note: As long as you try something with difficulty comparable to the suggested modifications and have a meaningful discussion of your results in your report, you can earn full marks (you do not necessarily need to improve performance)."
      ]
    },
    {
      "cell_type": "code",
      "metadata": {
        "id": "pTCrIkai-bkF",
        "colab": {
          "base_uri": "https://localhost:8080/"
        },
        "outputId": "9c69d4fa-6aed-4cf7-9df9-f39c5a2ea8d0"
      },
      "source": [
        "# Your code here!\n",
        "def tfidf_sweep(matrix, tf_func, idf_func):\n",
        "    # `matrix` is a `|V| x |D|` TD matrix of raw counts, where `|V|` is the \n",
        "    # vocabulary size and `|D|` is the number of documents in the corpus. This\n",
        "    # function should return a version of `matrix` with the TF-IDF transform\n",
        "    # applied. Note: this function should be nondestructive: it should not\n",
        "    # modify the input; instead, it should return a new object.\n",
        "\n",
        "    nwords, ndocs = matrix.shape\n",
        "    idfs = np.zeros(nwords)\n",
        "    tf = tf_func(matrix)\n",
        "    for i, _ in enumerate(idfs):\n",
        "      idfs[i] = idf_func(matrix[i,:], ndocs)\n",
        "    tfidf = np.multiply(tf, idfs[:, np.newaxis])\n",
        "    assert_size(tfidf, matrix.shape)\n",
        "    return tfidf\n",
        "\n",
        "def idf_smooth(row, ndocs):\n",
        "  df = np.count_nonzero(row) + 1\n",
        "  idf = np.log(ndocs/df) + 1\n",
        "  return idf\n",
        "\n",
        "def idf_max(row, ndocs):\n",
        "  df = np.count_nonzero(row) + 1\n",
        "  idf = np.log(np.max(row)/df)\n",
        "  return idf\n",
        "\n",
        "def idf_probmax(row, ndocs):\n",
        "  df = np.count_nonzero(row)\n",
        "  idf = np.log((ndocs - df)/df)\n",
        "  return idf\n",
        "\n",
        "def term_frequency(matrix):\n",
        "  tf = matrix/matrix.sum(axis=0, keepdims=True)\n",
        "  return tf\n",
        "\n",
        "def log_norm(matrix):\n",
        "  tf = np.log(matrix + 1)\n",
        "  return tf\n",
        "\n",
        "def k_norm(matrix, k = 0.5):\n",
        "  tf = (k-1) * matrix / (matrix.max(axis = 0)) + k \n",
        "  return tf \n",
        "  \n",
        "reps = 100\n",
        "n_train = 3000\n",
        "tfuncs = [term_frequency, log_norm, k_norm]\n",
        "ifuncs = [idf_smooth, idf_max, idf_probmax]\n",
        "for tfun in tfuncs:\n",
        "  for ifun in ifuncs:\n",
        "    td_matrix_tfidf = tfidf_sweep(td_matrix, tfun, ifun)\n",
        "    reps_tfidf = learn_reps_lsa(td_matrix_tfidf, reps)\n",
        "    name = tfun.__name__ + ' ' + ifun.__name__\n",
        "    training_experiment(name, lsa_featurizer, n_train)\n"
      ],
      "execution_count": 43,
      "outputs": [
        {
          "output_type": "stream",
          "name": "stdout",
          "text": [
            "term_frequency idf_smooth features, 3000 examples\n",
            "0.79 \n",
            "\n",
            "term_frequency idf_max features, 3000 examples\n",
            "0.774 \n",
            "\n",
            "term_frequency idf_probmax features, 3000 examples\n",
            "0.802 \n",
            "\n",
            "log_norm idf_smooth features, 3000 examples\n",
            "0.802 \n",
            "\n",
            "log_norm idf_max features, 3000 examples\n",
            "0.764 \n",
            "\n",
            "log_norm idf_probmax features, 3000 examples\n",
            "0.766 \n",
            "\n",
            "k_norm idf_smooth features, 3000 examples\n",
            "0.78 \n",
            "\n",
            "k_norm idf_max features, 3000 examples\n",
            "0.76 \n",
            "\n",
            "k_norm idf_probmax features, 3000 examples\n",
            "0.774 \n",
            "\n"
          ]
        }
      ]
    }
  ]
}